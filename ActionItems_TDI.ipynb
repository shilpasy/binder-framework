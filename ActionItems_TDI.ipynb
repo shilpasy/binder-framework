{
 "cells": [
  {
   "cell_type": "markdown",
   "id": "085a0f93",
   "metadata": {},
   "source": [
    "**This is the data set about Value of Energy Cost Saving Program for businesses in New York City**"
   ]
  },
  {
   "cell_type": "markdown",
   "id": "b8757aca",
   "metadata": {},
   "source": [
    "# Day 4"
   ]
  },
  {
   "cell_type": "code",
   "execution_count": 37,
   "id": "4097062a",
   "metadata": {},
   "outputs": [],
   "source": [
    "import pandas as pd\n",
    "pd.set_option('display.max_columns', None)"
   ]
  },
  {
   "cell_type": "code",
   "execution_count": 38,
   "id": "4698a352",
   "metadata": {},
   "outputs": [],
   "source": [
    "data = pd.read_csv(\"Value_of_Energy_Cost_Savings_Program_Savings_for_Businesses_-_FY2020.csv\")"
   ]
  },
  {
   "cell_type": "code",
   "execution_count": 39,
   "id": "cc47ca9f",
   "metadata": {},
   "outputs": [],
   "source": [
    "#data.head()"
   ]
  },
  {
   "cell_type": "code",
   "execution_count": 40,
   "id": "ec9dcacd",
   "metadata": {},
   "outputs": [],
   "source": [
    "#data.describe()"
   ]
  },
  {
   "cell_type": "markdown",
   "id": "73614d42",
   "metadata": {},
   "source": [
    "How many different companies are represented in the data set?"
   ]
  },
  {
   "cell_type": "code",
   "execution_count": 41,
   "id": "7a012b05",
   "metadata": {},
   "outputs": [
    {
     "data": {
      "text/plain": [
       "439"
      ]
     },
     "execution_count": 41,
     "metadata": {},
     "output_type": "execute_result"
    }
   ],
   "source": [
    "data[\"Company Name\"].unique().shape[0]"
   ]
  },
  {
   "cell_type": "code",
   "execution_count": 42,
   "id": "3efbe947",
   "metadata": {},
   "outputs": [
    {
     "data": {
      "text/plain": [
       "439"
      ]
     },
     "execution_count": 42,
     "metadata": {},
     "output_type": "execute_result"
    }
   ],
   "source": [
    "data[\"Company Name\"].str.upper().unique().shape[0]"
   ]
  },
  {
   "cell_type": "markdown",
   "id": "39bda9bd",
   "metadata": {},
   "source": [
    "What is the total number of jobs created for businesses in Queens?"
   ]
  },
  {
   "cell_type": "code",
   "execution_count": 43,
   "id": "33ab2f7b",
   "metadata": {},
   "outputs": [
    {
     "data": {
      "text/plain": [
       "Borough\n",
       "Bronx             22.0\n",
       "Brooklyn          25.0\n",
       "New York           0.0\n",
       "Queens           102.0\n",
       "Staten Island      0.0\n",
       "Name: Job created, dtype: float64"
      ]
     },
     "execution_count": 43,
     "metadata": {},
     "output_type": "execute_result"
    }
   ],
   "source": [
    "data[\"Job created\"].groupby(data[\"Borough\"]).sum()"
   ]
  },
  {
   "cell_type": "markdown",
   "id": "1ba166f6",
   "metadata": {},
   "source": [
    "Ans: Total number of jobs created in Queens: 102"
   ]
  },
  {
   "cell_type": "markdown",
   "id": "d7f2ae77",
   "metadata": {},
   "source": [
    "How many different unique email domains names are there in the data set?"
   ]
  },
  {
   "cell_type": "code",
   "execution_count": 44,
   "id": "ab8ee8a9",
   "metadata": {},
   "outputs": [],
   "source": [
    "import re\n",
    "\n",
    "def find_email(text):\n",
    "    email_regex = r'[\\w\\.-]+@([\\w\\.-]+)\\.com'\n",
    "    email = re.findall(email_regex, str(text))\n",
    "    return \",\".join(email)\n",
    "\n",
    "data['emailDomain'] = data['company email'].apply(lambda x: find_email(x))"
   ]
  },
  {
   "cell_type": "code",
   "execution_count": 45,
   "id": "1d7a2450",
   "metadata": {},
   "outputs": [
    {
     "data": {
      "text/plain": [
       "322"
      ]
     },
     "execution_count": 45,
     "metadata": {},
     "output_type": "execute_result"
    }
   ],
   "source": [
    "data['emailDomain'].unique().shape[0]"
   ]
  },
  {
   "cell_type": "code",
   "execution_count": null,
   "id": "f207c5db",
   "metadata": {},
   "outputs": [],
   "source": []
  },
  {
   "cell_type": "markdown",
   "id": "29ae1986",
   "metadata": {},
   "source": [
    "Considering only NTAs with at least 5 listed businesses, what is the average total savings and the total jobs created for each NTA? "
   ]
  },
  {
   "cell_type": "code",
   "execution_count": 46,
   "id": "34c1437b",
   "metadata": {
    "scrolled": false
   },
   "outputs": [],
   "source": [
    "filtered_NTA=[]\n",
    "for idx, name in enumerate(data['NTA'].value_counts().index.tolist()):\n",
    "    if (data['NTA'].value_counts()[idx]>=5):\n",
    "        filtered_NTA.append(name)"
   ]
  },
  {
   "cell_type": "code",
   "execution_count": 47,
   "id": "0cad54bb",
   "metadata": {},
   "outputs": [],
   "source": [
    "i=0\n",
    "filtered_ind=[]\n",
    "for n in filtered_NTA:\n",
    "    #print(n)\n",
    "    ind = 0\n",
    "    for i in data['NTA']:\n",
    "        if (i==n):\n",
    "            filtered_ind.append(ind)\n",
    "        ind+=1"
   ]
  },
  {
   "cell_type": "code",
   "execution_count": 48,
   "id": "3fd92638",
   "metadata": {},
   "outputs": [],
   "source": [
    "filtered_data = data.iloc[filtered_ind]"
   ]
  },
  {
   "cell_type": "code",
   "execution_count": 49,
   "id": "1ebe7f0f",
   "metadata": {},
   "outputs": [
    {
     "data": {
      "text/plain": [
       "(306, 27)"
      ]
     },
     "execution_count": 49,
     "metadata": {},
     "output_type": "execute_result"
    }
   ],
   "source": [
    "filtered_data.shape"
   ]
  },
  {
   "cell_type": "code",
   "execution_count": 50,
   "id": "73fe479a",
   "metadata": {},
   "outputs": [],
   "source": [
    "averageJobseachNTA = filtered_data[\"Job created\"].groupby(filtered_data[\"NTA\"]).mean().reset_index()"
   ]
  },
  {
   "cell_type": "code",
   "execution_count": 51,
   "id": "febdd504",
   "metadata": {},
   "outputs": [],
   "source": [
    "averageSavings = filtered_data[\"Total Savings\"].groupby(filtered_data[\"NTA\"]).mean().reset_index()"
   ]
  },
  {
   "cell_type": "code",
   "execution_count": 52,
   "id": "f0c5c845",
   "metadata": {},
   "outputs": [],
   "source": [
    "avg_jobs_and_salaries = averageJobseachNTA.merge(averageSavings, how='inner', on = 'NTA')"
   ]
  },
  {
   "cell_type": "code",
   "execution_count": null,
   "id": "716ce3f1",
   "metadata": {},
   "outputs": [],
   "source": []
  },
  {
   "cell_type": "markdown",
   "id": "ec0fd7d6",
   "metadata": {},
   "source": [
    "Save your result for the previous question as a CSV file."
   ]
  },
  {
   "cell_type": "code",
   "execution_count": 53,
   "id": "34b37d85",
   "metadata": {},
   "outputs": [],
   "source": [
    "avg_jobs_and_salaries.to_csv(\"avg_jobs_and_salaries.csv\")"
   ]
  },
  {
   "cell_type": "code",
   "execution_count": null,
   "id": "983f5790",
   "metadata": {},
   "outputs": [],
   "source": []
  },
  {
   "cell_type": "markdown",
   "id": "e0296e34",
   "metadata": {},
   "source": [
    "# Day 5"
   ]
  },
  {
   "cell_type": "markdown",
   "id": "38c3f5b0",
   "metadata": {},
   "source": [
    "scatter plot of jobs created versus average savings. Use both a standard and a logarithmic scale for the average savings. "
   ]
  },
  {
   "cell_type": "code",
   "execution_count": 65,
   "id": "ad9944e8",
   "metadata": {},
   "outputs": [
    {
     "data": {
      "text/plain": [
       "Text(0, 0.5, 'Avg total savings(log)')"
      ]
     },
     "execution_count": 65,
     "metadata": {},
     "output_type": "execute_result"
    },
    {
     "data": {
      "image/png": "[encoded data removed]",
      "text/plain": [
       "<Figure size 1200x300 with 2 Axes>"
      ]
     },
     "metadata": {},
     "output_type": "display_data"
    }
   ],
   "source": [
    "import matplotlib.pyplot as plt\n",
    "import seaborn as sns\n",
    "\n",
    "f, (ax1, ax2) = plt.subplots(1, 2, figsize=(12,3))\n",
    "\n",
    "ax1.scatter(averageJobseachNTA['Job created'], averageSavings['Total Savings'], s=50, facecolor = 'C0', edgecolor = 'k')\n",
    "ax2.scatter(averageJobseachNTA['Job created'], averageSavings['Total Savings'], s=50, facecolor = 'C0', edgecolor = 'k')\n",
    "\n",
    "ax2.set_yscale('log')\n",
    "ax1.set_xlabel('Avg Jobs created')\n",
    "ax1.set_ylabel('Avg total savings')\n",
    "ax2.set_xlabel('Avg Jobs created')\n",
    "ax2.set_ylabel('Avg total savings(log)')"
   ]
  },
  {
   "cell_type": "code",
   "execution_count": 70,
   "id": "dbc0a5f8",
   "metadata": {},
   "outputs": [],
   "source": [
    "#sns.scatterplot('Job created', 'Total Savings', data=avg_jobs_and_salaries)"
   ]
  },
  {
   "cell_type": "markdown",
   "id": "202878c0",
   "metadata": {},
   "source": [
    "Histogram of the log of the average total savings."
   ]
  },
  {
   "cell_type": "code",
   "execution_count": 73,
   "id": "2bd01932",
   "metadata": {},
   "outputs": [
    {
     "data": {
      "text/plain": [
       "<AxesSubplot:xlabel='Total Savings', ylabel='Count'>"
      ]
     },
     "execution_count": 73,
     "metadata": {},
     "output_type": "execute_result"
    },
    {
     "data": {
      "image/png": "[encoded data removed]",
      "text/plain": [
       "<Figure size 640x480 with 1 Axes>"
      ]
     },
     "metadata": {},
     "output_type": "display_data"
    }
   ],
   "source": [
    "sns.histplot(x= 'Total Savings',  data=avg_jobs_and_salaries, log_scale=True)"
   ]
  },
  {
   "cell_type": "code",
   "execution_count": null,
   "id": "6772ff64",
   "metadata": {},
   "outputs": [],
   "source": []
  },
  {
   "cell_type": "markdown",
   "id": "b8e1c56e",
   "metadata": {},
   "source": [
    "line plot of the total jobs created for each month"
   ]
  },
  {
   "cell_type": "code",
   "execution_count": 78,
   "id": "c4d0a994",
   "metadata": {},
   "outputs": [],
   "source": [
    "data['Effective Date'] = pd.to_datetime(data['Effective Date'])"
   ]
  },
  {
   "cell_type": "code",
   "execution_count": 85,
   "id": "8990b18c",
   "metadata": {},
   "outputs": [],
   "source": [
    "df = data[\"Job created\"].groupby(data['Effective Date'].dt.to_period('M')).sum().reset_index()"
   ]
  },
  {
   "cell_type": "code",
   "execution_count": 92,
   "id": "36a8aaab",
   "metadata": {},
   "outputs": [
    {
     "data": {
      "text/plain": [
       "<AxesSubplot:xlabel='Month', ylabel='Number of Jobs created'>"
      ]
     },
     "execution_count": 92,
     "metadata": {},
     "output_type": "execute_result"
    },
    {
     "data": {
      "image/png": "[encoded data removed]",
      "text/plain": [
       "<Figure size 640x480 with 1 Axes>"
      ]
     },
     "metadata": {},
     "output_type": "display_data"
    }
   ],
   "source": [
    "df.plot(ylabel = \"Number of Jobs created\", xlabel = 'Month', kind = 'line' )"
   ]
  },
  {
   "cell_type": "code",
   "execution_count": null,
   "id": "07c5bc08",
   "metadata": {},
   "outputs": [],
   "source": []
  }
 ],
 "metadata": {
  "kernelspec": {
   "display_name": "Python 3 (ipykernel)",
   "language": "python",
   "name": "python3"
  },
  "language_info": {
   "codemirror_mode": {
    "name": "ipython",
    "version": 3
   },
   "file_extension": ".py",
   "mimetype": "text/x-python",
   "name": "python",
   "nbconvert_exporter": "python",
   "pygments_lexer": "ipython3",
   "version": "3.8.11"
  }
 },
 "nbformat": 4,
 "nbformat_minor": 5
}
